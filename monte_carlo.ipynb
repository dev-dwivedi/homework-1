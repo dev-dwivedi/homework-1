{
 "cells": [
  {
   "cell_type": "code",
   "execution_count": 1,
   "metadata": {},
   "outputs": [],
   "source": [
    "import numpy as np"
   ]
  },
  {
   "cell_type": "code",
   "execution_count": 7,
   "metadata": {},
   "outputs": [],
   "source": [
    "def estimate_pi(num_points=10000):\n",
    "    x = np.random.uniform(-1, 1, num_points)\n",
    "    y = np.random.uniform(-1, 1, num_points)\n",
    "\n",
    "    inside_circle = x**2 + y**2 <= 1\n",
    "\n",
    "    pi_estimate = 4 * np.sum(inside_circle) / num_points\n",
    "    \n",
    "    return pi_estimate"
   ]
  },
  {
   "cell_type": "code",
   "execution_count": 11,
   "metadata": {},
   "outputs": [
    {
     "name": "stdout",
     "output_type": "stream",
     "text": [
      "Estimated π using 10000000 points: 3.1406772\n"
     ]
    }
   ],
   "source": [
    "num_samples = 10000000\n",
    "pi_approx = estimate_pi(num_samples)\n",
    "\n",
    "print(f\"Estimated π using {num_samples} points: {pi_approx}\")\n"
   ]
  }
 ],
 "metadata": {
  "kernelspec": {
   "display_name": "Python 3",
   "language": "python",
   "name": "python3"
  },
  "language_info": {
   "codemirror_mode": {
    "name": "ipython",
    "version": 3
   },
   "file_extension": ".py",
   "mimetype": "text/x-python",
   "name": "python",
   "nbconvert_exporter": "python",
   "pygments_lexer": "ipython3",
   "version": "3.12.0"
  }
 },
 "nbformat": 4,
 "nbformat_minor": 2
}
